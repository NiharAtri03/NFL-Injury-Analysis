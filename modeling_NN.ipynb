{
 "cells": [
  {
   "cell_type": "markdown",
   "metadata": {},
   "source": [
    "This document uses neural networks to predict NFL player injury."
   ]
  },
  {
   "cell_type": "code",
   "execution_count": 1,
   "metadata": {},
   "outputs": [
    {
     "name": "stdout",
     "output_type": "stream",
     "text": [
      "Intel MKL WARNING: Support of Intel(R) Streaming SIMD Extensions 4.2 (Intel(R) SSE4.2) enabled only processors has been deprecated. Intel oneAPI Math Kernel Library 2025.0 will require Intel(R) Advanced Vector Extensions (Intel(R) AVX) instructions.\n",
      "Intel MKL WARNING: Support of Intel(R) Streaming SIMD Extensions 4.2 (Intel(R) SSE4.2) enabled only processors has been deprecated. Intel oneAPI Math Kernel Library 2025.0 will require Intel(R) Advanced Vector Extensions (Intel(R) AVX) instructions.\n"
     ]
    }
   ],
   "source": [
    "import pandas as pd\n",
    "from tabulate import tabulate\n",
    "from scipy.stats import ttest_ind\n",
    "import warnings\n",
    "import xgboost as xgb\n",
    "from sklearn.model_selection import train_test_split\n",
    "from sklearn.metrics import accuracy_score, classification_report\n",
    "from sklearn.preprocessing import LabelEncoder\n",
    "from sklearn.decomposition import PCA\n",
    "from imblearn.over_sampling import SMOTE\n",
    "from imblearn.over_sampling import ADASYN\n",
    "from sklearn.metrics import precision_recall_curve\n",
    "import numpy as np\n",
    "from sklearn.metrics import confusion_matrix, ConfusionMatrixDisplay\n",
    "from sklearn.preprocessing import StandardScaler, OneHotEncoder\n",
    "from sklearn.impute import SimpleImputer\n",
    "from sklearn.compose import ColumnTransformer\n",
    "from sklearn.pipeline import Pipeline\n",
    "from sklearn.preprocessing import FunctionTransformer\n",
    "import matplotlib.pyplot as plt\n",
    "import seaborn as sns\n",
    "\n",
    "pd.set_option('display.max_columns', None)"
   ]
  },
  {
   "cell_type": "code",
   "execution_count": 2,
   "metadata": {},
   "outputs": [],
   "source": [
    "import torch\n",
    "import torch.nn as nn\n",
    "import torch.optim as optim\n",
    "from torch.utils.data import DataLoader, TensorDataset, random_split"
   ]
  },
  {
   "cell_type": "code",
   "execution_count": 3,
   "metadata": {},
   "outputs": [
    {
     "name": "stderr",
     "output_type": "stream",
     "text": [
      "/var/folders/rx/0shr4jt1365bgrnlk6fkmjjh0000gn/T/ipykernel_33085/865703963.py:1: DtypeWarning: Columns (179,180,182,183,189,190,197,198,203,204,205,206,222,224,226,233,234,235,236,237,238,253,254,255,260,262,263,283,284) have mixed types. Specify dtype option on import or set low_memory=False.\n",
      "  play2024_df = pd.read_csv(\"data/play_by_play_2024.csv\")\n"
     ]
    }
   ],
   "source": [
    "play2024_df = pd.read_csv(\"data/play_by_play_2024.csv\")\n",
    "injury2024_df = pd.read_csv(\"data/injuries_2024.csv\")"
   ]
  },
  {
   "cell_type": "markdown",
   "metadata": {},
   "source": [
    "### Preprocessing"
   ]
  },
  {
   "cell_type": "code",
   "execution_count": 4,
   "metadata": {},
   "outputs": [],
   "source": [
    "def first_last_a(name):\n",
    "    parts = name.split(\" \", 1)\n",
    "    return f\"{parts[0][0]}.{parts[1]}\""
   ]
  },
  {
   "cell_type": "code",
   "execution_count": 5,
   "metadata": {},
   "outputs": [],
   "source": [
    "def first_last_b(name):\n",
    "    parts = name.split(\" \", 1)\n",
    "    return f\"{parts[0][0:2]}.{parts[1]}\""
   ]
  },
  {
   "cell_type": "code",
   "execution_count": 6,
   "metadata": {},
   "outputs": [],
   "source": [
    "warnings.filterwarnings('ignore')\n",
    "\n",
    "def merge_play_injury_dfs(play_df, injury_df):\n",
    "\n",
    "    # preprocessing\n",
    "    injury_df[\"date\"] = pd.to_datetime(injury_df['date_modified'])\n",
    "    play_df[\"date\"] = pd.to_datetime(play_df['game_date'])\n",
    "    injury_df['date'] = injury_df['date'].dt.tz_localize(None)\n",
    "    play_df['date'] = play_df['date'].dt.tz_localize(None)\n",
    "\n",
    "    # filtering\n",
    "    plays_with_injuries = play_df[play_df['desc'].str.contains(\"was injured\", na=False)]\n",
    "    pattern = r'(\\w+\\.(?:\\w|-|\\.|\\')+(?: \\w+)*) was injured'\n",
    "    # Extract the injured player's name from the desc column\n",
    "    injured_players = plays_with_injuries.loc[:, \"desc\"].str.extract(pattern)\n",
    "\n",
    "    # concatenation\n",
    "    plays_with_injuries = pd.concat([plays_with_injuries, injured_players], axis=1)\n",
    "    plays_with_injuries.rename(columns={0: \"injured_player\"}, inplace=True)\n",
    "    plays_with_injuries = plays_with_injuries.reset_index(drop=True)\n",
    "    \n",
    "    # merging\n",
    "    injuries = []\n",
    "    for (week, team), group_injury_df in injury_df.groupby(['week', 'team']):\n",
    "        group_play_df = plays_with_injuries[(plays_with_injuries['week'] == week) & ((plays_with_injuries['home_team'] == team) | (plays_with_injuries['away_team'] == team))]\n",
    "\n",
    "        group_injury_df = group_injury_df[group_injury_df.date >= group_play_df.date.max()]\n",
    "\n",
    "        group_injury_df[\"first_type\"] = group_injury_df['full_name'].apply(first_last_a)\n",
    "        group_injury_df[\"second_type\"] = group_injury_df['full_name'].apply(first_last_b)\n",
    "\n",
    "        x = pd.merge(group_play_df, group_injury_df, left_on=\"injured_player\", right_on=\"first_type\", how=\"inner\")\n",
    "        y = pd.merge(group_play_df, group_injury_df, left_on=\"injured_player\", right_on=\"second_type\", how=\"inner\")\n",
    "\n",
    "        injuries.append(pd.concat([x, y], axis = 0, ignore_index=True))\n",
    "\n",
    "    plays_with_injuries_and_injury_record = (pd.concat(injuries, axis=0, ignore_index=True)).drop(columns=[\"first_type\", \"second_type\"])\n",
    "    plays_with_injuries_and_injury_record = plays_with_injuries_and_injury_record.sort_values('play_id', ascending=False).drop_duplicates(subset=['week_x', 'full_name', \"team\"], keep='first')\n",
    "\n",
    "    return plays_with_injuries, plays_with_injuries_and_injury_record\n",
    "# returns (plays where injuries occurred, plays were injuries occurred and player missed time)"
   ]
  },
  {
   "cell_type": "code",
   "execution_count": 7,
   "metadata": {},
   "outputs": [],
   "source": [
    "def populate_cols_in_play_df(play_df, plays_with_injuries, plays_with_injuries_and_injury_record):\n",
    "    columns_to_check = ['play_id', 'game_id']\n",
    "    play_df[\"was_injured\"] = 0\n",
    "    play_df[\"missed_time\"] = 0\n",
    "    play_df.loc[play_df[columns_to_check].apply(tuple, 1).isin(plays_with_injuries[columns_to_check].apply(tuple, 1)), 'was_injured'] = 1\n",
    "    play_df.loc[play_df[columns_to_check].apply(tuple, 1).isin(plays_with_injuries_and_injury_record[columns_to_check].apply(tuple, 1)), 'missed_time'] = 1\n",
    "\n",
    "    return play_df"
   ]
  },
  {
   "cell_type": "code",
   "execution_count": 8,
   "metadata": {},
   "outputs": [],
   "source": [
    "plays_with_injuries_2024, plays_with_injuries_and_injury_record_2024 = merge_play_injury_dfs(play2024_df, injury2024_df)\n",
    "\n",
    "# Print number of rows for each returned table\n",
    "print(\"Rows in plays_with_injuries_2024:\", len(plays_with_injuries_2024))\n",
    "print(\"Rows in plays_with_injuries_and_injury_record_2024:\", len(plays_with_injuries_and_injury_record_2024))"
   ]
  },
  {
   "cell_type": "code",
   "execution_count": 11,
   "metadata": {},
   "outputs": [],
   "source": [
    "play2024_df = populate_cols_in_play_df(play2024_df, plays_with_injuries_2024, plays_with_injuries_and_injury_record_2024)\n",
    "\n",
    "# dropping meta data columns\n",
    "play2024_df = play2024_df.drop(columns=[\"play_id\",\"game_id\",\"old_game_id\"])"
   ]
  },
  {
   "cell_type": "code",
   "execution_count": 12,
   "metadata": {},
   "outputs": [],
   "source": [
    "X = play2024_df.drop(columns=['was_injured', \"missed_time\"])  # Drop the target column\n",
    "y = play2024_df['was_injured']  # Target column"
   ]
  },
  {
   "cell_type": "code",
   "execution_count": 13,
   "metadata": {},
   "outputs": [],
   "source": [
    "# Lambda function to extract day and month\n",
    "def extract_day_month(X):\n",
    "    X = X.copy()\n",
    "    X['date'] = pd.to_datetime(X['date'])\n",
    "    X['month'] = X[\"date\"].dt.month\n",
    "    X['day'] = X[\"date\"].dt.day\n",
    "    return X.drop(columns=[\"date\"])"
   ]
  },
  {
   "cell_type": "code",
   "execution_count": 14,
   "metadata": {},
   "outputs": [],
   "source": [
    "date_transformer = Pipeline(steps=[\n",
    "    ('extract_day_month', FunctionTransformer(lambda X: extract_day_month(X)))\n",
    "])"
   ]
  },
  {
   "cell_type": "code",
   "execution_count": 15,
   "metadata": {},
   "outputs": [],
   "source": [
    "categorical_columns = X.select_dtypes(include=['object', 'category']).columns\n",
    "numerical_columns = X.select_dtypes(include=['number']).columns\n",
    "\n",
    "# Handling missing values and encoding\n",
    "numerical_transformer = Pipeline(steps=[\n",
    "    ('imputer', SimpleImputer(strategy='mean')),  # Impute missing numerical data with mean\n",
    "    ('scaler', StandardScaler())                 # Scale numerical features\n",
    "])\n",
    "\n",
    "categorical_transformer = Pipeline(steps=[\n",
    "    ('imputer', SimpleImputer(strategy='constant', fill_value='missing')),  # Fill missing categorical data\n",
    "    ('onehot', OneHotEncoder(handle_unknown='ignore'))                     # One-hot encode categorical variables\n",
    "])"
   ]
  },
  {
   "cell_type": "code",
   "execution_count": 16,
   "metadata": {},
   "outputs": [],
   "source": [
    "preprocessor = ColumnTransformer(\n",
    "    transformers=[\n",
    "        ('num', numerical_transformer, numerical_columns),\n",
    "        ('cat', categorical_transformer, categorical_columns),\n",
    "        ('date', date_transformer, [\"date\"])  # Simple date transformation\n",
    "    ]\n",
    ")"
   ]
  },
  {
   "cell_type": "code",
   "execution_count": 17,
   "metadata": {},
   "outputs": [],
   "source": [
    "X_preprocessed = preprocessor.fit_transform(X)"
   ]
  },
  {
   "cell_type": "code",
   "execution_count": 18,
   "metadata": {},
   "outputs": [],
   "source": [
    "X_train, X_test, y_train, y_test = train_test_split(\n",
    "    X_preprocessed, y, test_size=0.1, stratify=y, random_state=42\n",
    ")"
   ]
  },
  {
   "cell_type": "code",
   "execution_count": 19,
   "metadata": {},
   "outputs": [
    {
     "name": "stdout",
     "output_type": "stream",
     "text": [
      "Train Features Shape: (23710, 104934)\n",
      "Test Features Shape: (2635, 104934)\n",
      "Train Target Distribution: was_injured\n",
      "0    23299\n",
      "1      411\n",
      "Name: count, dtype: int64\n",
      "Test Target Distribution: was_injured\n",
      "0    2589\n",
      "1      46\n",
      "Name: count, dtype: int64\n"
     ]
    }
   ],
   "source": [
    "print(\"Train Features Shape:\", X_train.shape)\n",
    "print(\"Test Features Shape:\", X_test.shape)\n",
    "print(\"Train Target Distribution:\", y_train.value_counts())\n",
    "print(\"Test Target Distribution:\", y_test.value_counts())"
   ]
  },
  {
   "cell_type": "code",
   "execution_count": 20,
   "metadata": {},
   "outputs": [
    {
     "name": "stdout",
     "output_type": "stream",
     "text": [
      "Balanced Train Features Shape: (46659, 104934)\n",
      "Balanced Train Target Distribution:\n",
      " was_injured\n",
      "1    23360\n",
      "0    23299\n",
      "Name: count, dtype: int64\n"
     ]
    }
   ],
   "source": [
    "# Oversample the minority class in the training set\n",
    "adasyn = ADASYN(random_state=42)\n",
    "X_train_balanced, y_train_balanced = adasyn.fit_resample(X_train, y_train)\n",
    "\n",
    "# Verify the balanced distribution\n",
    "print(\"Balanced Train Features Shape:\", X_train_balanced.shape)\n",
    "print(\"Balanced Train Target Distribution:\\n\", y_train_balanced.value_counts())"
   ]
  },
  {
   "cell_type": "markdown",
   "metadata": {},
   "source": [
    "### Modeling"
   ]
  },
  {
   "cell_type": "code",
   "execution_count": 21,
   "metadata": {},
   "outputs": [
    {
     "name": "stdout",
     "output_type": "stream",
     "text": [
      "Epoch 1/5 - Train Loss: 0.1213, Val Loss: 0.0120\n",
      "Epoch 2/5 - Train Loss: 0.0158, Val Loss: 0.0071\n",
      "Epoch 3/5 - Train Loss: 0.0141, Val Loss: 0.0028\n",
      "Epoch 4/5 - Train Loss: 0.0076, Val Loss: 0.0054\n",
      "Epoch 5/5 - Train Loss: 0.0059, Val Loss: 0.0083\n",
      "Test Loss: 0.3354\n",
      "Test Accuracy: 0.9803\n"
     ]
    }
   ],
   "source": [
    "# Convert data to PyTorch tensors\n",
    "X_train_tensor = torch.tensor(X_train_balanced.toarray(), dtype=torch.float32)\n",
    "y_train_tensor = torch.tensor(y_train_balanced.values, dtype=torch.float32)\n",
    "X_test_tensor = torch.tensor(X_test.toarray(), dtype=torch.float32)\n",
    "y_test_tensor = torch.tensor(y_test.values, dtype=torch.float32)\n",
    "\n",
    "# Create DataLoader for batch processing\n",
    "train_dataset = TensorDataset(X_train_tensor, y_train_tensor)\n",
    "test_dataset = TensorDataset(X_test_tensor, y_test_tensor)\n",
    "\n",
    "# Split train data into training and validation sets\n",
    "train_size = int(0.9 * len(train_dataset))\n",
    "val_size = len(train_dataset) - train_size\n",
    "train_subset, val_subset = random_split(train_dataset, [train_size, val_size])\n",
    "\n",
    "train_loader = DataLoader(train_subset, batch_size=32, shuffle=True)\n",
    "val_loader = DataLoader(val_subset, batch_size=32, shuffle=False)\n",
    "test_loader = DataLoader(test_dataset, batch_size=32, shuffle=False)\n",
    "\n",
    "# Define the Neural Network\n",
    "class NeuralNetwork(nn.Module):\n",
    "    def __init__(self, input_dim):\n",
    "        super(NeuralNetwork, self).__init__()\n",
    "        self.fc1 = nn.Linear(input_dim, 128)\n",
    "        self.fc2 = nn.Linear(128, 64)\n",
    "        self.fc3 = nn.Linear(64, 32)\n",
    "        self.output = nn.Linear(32, 1)\n",
    "        self.relu = nn.ReLU()\n",
    "        self.dropout = nn.Dropout(0.3)\n",
    "        self.sigmoid = nn.Sigmoid()\n",
    "\n",
    "    def forward(self, x):\n",
    "        x = self.relu(self.fc1(x))\n",
    "        x = self.dropout(x)\n",
    "        x = self.relu(self.fc2(x))\n",
    "        x = self.dropout(x)\n",
    "        x = self.relu(self.fc3(x))\n",
    "        x = self.sigmoid(self.output(x))\n",
    "        return x\n",
    "\n",
    "# Initialize the model, loss function, and optimizer\n",
    "input_dim = X_train_tensor.shape[1]\n",
    "model = NeuralNetwork(input_dim)\n",
    "\n",
    "criterion = nn.BCELoss()  # Binary Cross-Entropy Loss\n",
    "optimizer = optim.Adam(model.parameters(), lr=0.001)\n",
    "\n",
    "# Training Loop\n",
    "def train_model(model, train_loader, val_loader, criterion, optimizer, epochs=5):\n",
    "    best_val_loss = float('inf')\n",
    "    patience = 5\n",
    "    no_improvement = 0\n",
    "\n",
    "    for epoch in range(epochs):\n",
    "        model.train()\n",
    "        train_loss = 0.0\n",
    "        for X_batch, y_batch in train_loader:\n",
    "            optimizer.zero_grad()\n",
    "            y_pred = model(X_batch).squeeze()\n",
    "            loss = criterion(y_pred, y_batch)\n",
    "            loss.backward()\n",
    "            optimizer.step()\n",
    "            train_loss += loss.item()\n",
    "\n",
    "        # Validation\n",
    "        model.eval()\n",
    "        val_loss = 0.0\n",
    "        with torch.no_grad():\n",
    "            for X_batch, y_batch in val_loader:\n",
    "                y_pred = model(X_batch).squeeze()\n",
    "                loss = criterion(y_pred, y_batch)\n",
    "                val_loss += loss.item()\n",
    "\n",
    "        train_loss /= len(train_loader)\n",
    "        val_loss /= len(val_loader)\n",
    "\n",
    "        print(f\"Epoch {epoch+1}/{epochs} - Train Loss: {train_loss:.4f}, Val Loss: {val_loss:.4f}\")\n",
    "\n",
    "        # Early Stopping\n",
    "        if val_loss < best_val_loss:\n",
    "            best_val_loss = val_loss\n",
    "            torch.save(model.state_dict(), 'best_model.pth')\n",
    "            no_improvement = 0\n",
    "        else:\n",
    "            no_improvement += 1\n",
    "            if no_improvement >= patience:\n",
    "                print(\"Early stopping triggered.\")\n",
    "                break\n",
    "\n",
    "# Train the model\n",
    "train_model(model, train_loader, val_loader, criterion, optimizer)\n",
    "\n",
    "# Load the best model and evaluate on the test set\n",
    "model.load_state_dict(torch.load('best_model.pth'))\n",
    "\n",
    "# Test Loop\n",
    "def evaluate_model(model, test_loader):\n",
    "    model.eval()\n",
    "    test_loss = 0.0\n",
    "    correct = 0\n",
    "    total = 0\n",
    "    with torch.no_grad():\n",
    "        for X_batch, y_batch in test_loader:\n",
    "            y_pred = model(X_batch).squeeze()\n",
    "            test_loss += criterion(y_pred, y_batch).item()\n",
    "            predictions = (y_pred >= 0.5).float()\n",
    "            correct += (predictions == y_batch).sum().item()\n",
    "            total += y_batch.size(0)\n",
    "\n",
    "    accuracy = correct / total\n",
    "    print(f\"Test Loss: {test_loss/len(test_loader):.4f}\")\n",
    "    print(f\"Test Accuracy: {accuracy:.4f}\")\n",
    "\n",
    "# Evaluate the model\n",
    "evaluate_model(model, test_loader)"
   ]
  },
  {
   "cell_type": "code",
   "execution_count": 22,
   "metadata": {},
   "outputs": [
    {
     "data": {
      "image/png": "[encoded data removed]",
      "text/plain": [
       "<Figure size 600x500 with 2 Axes>"
      ]
     },
     "metadata": {},
     "output_type": "display_data"
    }
   ],
   "source": [
    "# Get model predictions on the test set\n",
    "model.eval()\n",
    "y_pred = []\n",
    "y_true = []\n",
    "\n",
    "with torch.no_grad():\n",
    "    for X_batch, y_batch in test_loader:\n",
    "        y_true.extend(y_batch.numpy())\n",
    "        y_pred_batch = model(X_batch).squeeze()\n",
    "        y_pred.extend((y_pred_batch >= 0.5).float().numpy())  # Convert to 0 or 1\n",
    "\n",
    "# Calculate the confusion matrix\n",
    "cm = confusion_matrix(y_true, y_pred)\n",
    "\n",
    "# Plot the confusion matrix\n",
    "plt.figure(figsize=(6, 5))\n",
    "sns.heatmap(cm, annot=True, fmt='d', cmap='Blues', xticklabels=['No Injury (0)', 'Injury (1)'], yticklabels=['No Injury (0)', 'Injury (1)'])\n",
    "plt.title('Confusion Matrix')\n",
    "plt.xlabel('Predicted Labels')\n",
    "plt.ylabel('True Labels')\n",
    "plt.show()"
   ]
  }
 ],
 "metadata": {
  "kernelspec": {
   "display_name": "seminar",
   "language": "python",
   "name": "python3"
  },
  "language_info": {
   "codemirror_mode": {
    "name": "ipython",
    "version": 3
   },
   "file_extension": ".py",
   "mimetype": "text/x-python",
   "name": "python",
   "nbconvert_exporter": "python",
   "pygments_lexer": "ipython3",
   "version": "3.11.5"
  }
 },
 "nbformat": 4,
 "nbformat_minor": 4
}
